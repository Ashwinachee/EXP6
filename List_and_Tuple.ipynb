{
 "cells": [
  {
   "cell_type": "markdown",
   "id": "b514e1bb",
   "metadata": {},
   "source": [
    "### 1. Write a program to create a list and perform the following operations: append, insert, delete, and update an element.\n",
    "\n"
   ]
  },
  {
   "cell_type": "code",
   "execution_count": 3,
   "id": "4c7aa54b",
   "metadata": {},
   "outputs": [
    {
     "name": "stdout",
     "output_type": "stream",
     "text": [
      "After append: ['dhoni', 'noor']\n",
      "After insert at index 1: ['dhoni', 'raina', 'noor']\n",
      "After update at index 0: ['jadeja', 'raina', 'noor']\n",
      "After deleting index 2: ['jadeja', 'raina']\n"
     ]
    }
   ],
   "source": [
    "my_list = []\n",
    "my_list.append(\"dhoni\")\n",
    "my_list.append(\"noor\")\n",
    "print(\"After append:\", my_list)\n",
    "my_list.insert(1, \"raina\")\n",
    "print(\"After insert at index 1:\", my_list)\n",
    "my_list[0] = \"jadeja\"\n",
    "print(\"After update at index 0:\", my_list)\n",
    "del my_list[2]\n",
    "print(\"After deleting index 2:\",my_list)"
   ]
  },
  {
   "cell_type": "markdown",
   "id": "30525483",
   "metadata": {},
   "source": [
    "### 2.Write a program to create a list of integers and print the largest, smallest, and average of the list elements.\n"
   ]
  },
  {
   "cell_type": "code",
   "execution_count": 6,
   "id": "2dca0490",
   "metadata": {},
   "outputs": [
    {
     "name": "stdout",
     "output_type": "stream",
     "text": [
      "Largest number: 9\n",
      "Smallest number: 2\n",
      "Average: 5.6\n"
     ]
    }
   ],
   "source": [
    "numbers = list(map(int, input(\"Enter integers separated by spaces: \").split()))\n",
    "largest = max(numbers)\n",
    "smallest = min(numbers)\n",
    "average = sum(numbers) / len(numbers)\n",
    "print(\"Largest number:\", largest)\n",
    "print(\"Smallest number:\", smallest)\n",
    "print(\"Average:\",average)"
   ]
  },
  {
   "cell_type": "markdown",
   "id": "cc31ce25",
   "metadata": {},
   "source": [
    "### 3.Write a program to generate a list of squares of the first 10 natural numbers using list comprehension.\n"
   ]
  },
  {
   "cell_type": "code",
   "execution_count": 8,
   "id": "a1531d94",
   "metadata": {},
   "outputs": [
    {
     "name": "stdout",
     "output_type": "stream",
     "text": [
      "Squares of the first 10 natural numbers: [1, 4, 9, 16, 25, 36, 49, 64, 81, 100]\n"
     ]
    }
   ],
   "source": [
    "squares = [x**2 for x in range(1, 11)]\n",
    "print(\"Squares of the first 10 natural numbers:\",squares)"
   ]
  },
  {
   "cell_type": "markdown",
   "id": "f3099800",
   "metadata": {},
   "source": [
    "### 4.Write a program to create a list of student names and sort them in ascending and descending order"
   ]
  },
  {
   "cell_type": "code",
   "execution_count": 9,
   "id": "cdb9a39d",
   "metadata": {},
   "outputs": [
    {
     "name": "stdout",
     "output_type": "stream",
     "text": [
      "Ascending order: ['bava', 'brindha', 'harshini', 'rithika', 'shrina']\n",
      "Descending order: ['shrina', 'rithika', 'harshini', 'brindha', 'bava']\n"
     ]
    }
   ],
   "source": [
    "students = [\"brindha\", \"bava\", \"rithika\", \"shrina\", \"harshini\"]\n",
    "ascending = sorted(students)\n",
    "print(\"Ascending order:\", ascending)\n",
    "descending = sorted(students, reverse=True)\n",
    "print(\"Descending order:\",descending)"
   ]
  },
  {
   "cell_type": "markdown",
   "id": "51ea4b00",
   "metadata": {},
   "source": [
    "### 5.Write a program to perform linear search and binary search on a list of numbers\n"
   ]
  },
  {
   "cell_type": "code",
   "execution_count": 10,
   "id": "bc096a1e",
   "metadata": {},
   "outputs": [
    {
     "name": "stdout",
     "output_type": "stream",
     "text": [
      "\n",
      "--- Linear Search ---\n",
      "Linear Search: 7 found at index 4\n",
      "\n",
      "--- Binary Search ---\n",
      "Sorted array for binary search: [2, 4, 6, 7, 8, 9]\n",
      "Binary Search: 7 found at index 3\n"
     ]
    }
   ],
   "source": [
    "arr = list(map(int, input(\"Enter a list of numbers (space-separated): \").split()))\n",
    "target = int(input(\"Enter the number to search for: \"))\n",
    "print(\"\\n--- Linear Search ---\")\n",
    "linear_result = -1\n",
    "for i in range(len(arr)):\n",
    "    if arr[i] == target:\n",
    "        linear_result = i\n",
    "        break\n",
    "if linear_result != -1:\n",
    "    print(f\"Linear Search: {target} found at index {linear_result}\")\n",
    "else:\n",
    "    print(f\"Linear Search: {target} not found\")\n",
    "print(\"\\n--- Binary Search ---\")\n",
    "arr.sort()\n",
    "print(f\"Sorted array for binary search: {arr}\")\n",
    "left = 0\n",
    "right = len(arr) - 1\n",
    "binary_result = -1\n",
    "while left <= right:\n",
    "    mid = (left + right) // 2\n",
    "    if arr[mid] == target:\n",
    "        binary_result = mid\n",
    "        break\n",
    "    elif arr[mid] < target:\n",
    "        left = mid + 1\n",
    "    else:\n",
    "        right = mid - 1\n",
    "\n",
    "if binary_result != -1:\n",
    "    print(f\"Binary Search: {target} found at index {binary_result}\")\n",
    "else:\n",
    "    print(f\"Binary Search: {target} not found\")"
   ]
  },
  {
   "cell_type": "markdown",
   "id": "d6809ae4",
   "metadata": {},
   "source": [
    "### 6.Given a list of numbers, create a new list containing the squares of only the odd numbers from the original list. (Use List comprehension)\t\n"
   ]
  },
  {
   "cell_type": "code",
   "execution_count": 11,
   "id": "576ac6ab",
   "metadata": {},
   "outputs": [
    {
     "name": "stdout",
     "output_type": "stream",
     "text": [
      "[1, 9, 25, 49, 81, 121]\n"
     ]
    }
   ],
   "source": [
    "numbers = [1, 2, 3, 4, 5, 6, 7,8,9,10,11,12]\n",
    "squares_of_odds = [x**2 for x in numbers if x % 2 != 0]\n",
    "print(squares_of_odds)"
   ]
  },
  {
   "cell_type": "markdown",
   "id": "650a66c6",
   "metadata": {},
   "source": [
    "### 7.Write a program to swap two values using tuple unpacking.\n"
   ]
  },
  {
   "cell_type": "code",
   "execution_count": 12,
   "id": "271f1f03",
   "metadata": {},
   "outputs": [
    {
     "name": "stdout",
     "output_type": "stream",
     "text": [
      "Before swapping: a = 7, b = 12\n",
      "After swapping: a = 12, b = 7\n"
     ]
    }
   ],
   "source": [
    "a = int(input(\"Enter first value (a): \"))\n",
    "b = int(input(\"Enter second value (b): \"))\n",
    "print(f\"Before swapping: a = {a}, b = {b}\")\n",
    "a, b = b, a\n",
    "print(f\"After swapping: a = {a}, b = {b}\")"
   ]
  },
  {
   "cell_type": "markdown",
   "id": "303f83a8",
   "metadata": {},
   "source": [
    "### 8.Write a program to create a list of tuples containing student names and their marks, and print the names of students who scored more than 90.\n"
   ]
  },
  {
   "cell_type": "code",
   "execution_count": 16,
   "id": "b0b8f510",
   "metadata": {},
   "outputs": [
    {
     "name": "stdout",
     "output_type": "stream",
     "text": [
      "Students who scored more than 90:\n",
      "Brindha\n",
      "Bava\n",
      "Rithika\n"
     ]
    }
   ],
   "source": [
    "students = [\n",
    "    (\"Brindha\", 95),\n",
    "    (\"Bava\", 92),\n",
    "    (\"Rithika\", 91),\n",
    "    (\"Swetha\", 86),\n",
    "    (\"Harini\", 89)\n",
    "]\n",
    "print(\"Students who scored more than 90:\")\n",
    "for name, marks in students:\n",
    "    if marks > 90:\n",
    "        print(name)"
   ]
  },
  {
   "cell_type": "markdown",
   "id": "8c93ce35",
   "metadata": {},
   "source": [
    "### 9.A sensor returns a list of readings. Negative readings are invalid and should be replaced by zero and Use list comprehension to replace all negative numbers in a list with 0.\n"
   ]
  },
  {
   "cell_type": "code",
   "execution_count": 17,
   "id": "cf00dd38",
   "metadata": {},
   "outputs": [
    {
     "name": "stdout",
     "output_type": "stream",
     "text": [
      "Cleaned sensor readings: [0, 12, 7, 0, 0, 3, 4, 0]\n"
     ]
    }
   ],
   "source": [
    "readings = [-13,12,7,-9,-5,3,4,-2]\n",
    "cleaned_readings = [x if x >= 0 else 0 for x in readings]\n",
    "print(\"Cleaned sensor readings:\", cleaned_readings)"
   ]
  },
  {
   "cell_type": "markdown",
   "id": "0688c5e4",
   "metadata": {},
   "source": [
    "### 10.Create a system to process customer orders. Each order can contain multiple items (represented as strings). The system should allow adding items to an order, removing items, displaying the current order, and calculating the total number of items in the order. You could extend this by associating quantities with each item (e.g., a list of tuples: [(\"Laptop\", 1), (\"Mouse\", 2)]).\n"
   ]
  },
  {
   "cell_type": "code",
   "execution_count": 20,
   "id": "f2e38b35",
   "metadata": {},
   "outputs": [
    {
     "name": "stdout",
     "output_type": "stream",
     "text": [
      "Order: [('pen', 1), ('pencil', 1)]\n",
      "Order: [('pen', 1)]\n"
     ]
    }
   ],
   "source": [
    "order = []\n",
    "while True:\n",
    "    ch = input(\"\\n1.Add 2.Remove 3.View 4.Total 5.Exit: \")\n",
    "    if ch == '1':\n",
    "        item = input(\"Item: \")\n",
    "        qty = int(input(\"Qty: \"))\n",
    "        for i in range(len(order)):\n",
    "            if order[i][0] == item:\n",
    "                order[i] = (item, order[i][1] + qty)\n",
    "                break\n",
    "        else:\n",
    "            order.append((item, qty))\n",
    "    elif ch == '2':\n",
    "        item = input(\"Remove item: \")\n",
    "        order = [i for i in order if i[0] != item]\n",
    "    elif ch == '3':\n",
    "        print(\"Order:\", order if order else \"Empty\")\n",
    "    elif ch == '4':\n",
    "        print(\"Total items:\", sum(q for _, q in order))\n",
    "    elif ch == '5':\n",
    "        break"
   ]
  },
  {
   "cell_type": "markdown",
   "id": "c2894767",
   "metadata": {},
   "source": [
    "### 11.Given a list of numbers and a target sum, find all unique pairs of numbers in the list that add up to the target sum.\n"
   ]
  },
  {
   "cell_type": "code",
   "execution_count": 21,
   "id": "566ae67e",
   "metadata": {},
   "outputs": [
    {
     "name": "stdout",
     "output_type": "stream",
     "text": [
      "Pairs that add up to 9 are:\n",
      "(4, 5)\n",
      "(2, 7)\n",
      "(3, 6)\n"
     ]
    }
   ],
   "source": [
    "numbers = [2,4,3,7,1,9,6,5]\n",
    "target = 9\n",
    "seen = set()\n",
    "pairs = set()\n",
    "for num in numbers:\n",
    "    complement = target - num\n",
    "    if complement in seen:\n",
    "        pairs.add(tuple(sorted((num, complement))))\n",
    "    seen.add(num)\n",
    "print(\"Pairs that add up to\", target, \"are:\")\n",
    "for pair in pairs:\n",
    "    print(pair)"
   ]
  },
  {
   "cell_type": "markdown",
   "id": "45d5bbc8",
   "metadata": {},
   "source": [
    "### 12.Implement a function that performs Run-Length Encoding on a list of characters. RLE compresses data by replacing consecutive identical characters with the character and its count. For example, [\"a\", \"a\", \"a\", \"b\", \"b\", \"c\"] would be encoded as [(\"a\", 3), (\"b\", 2), (\"c\", 1)]. \n"
   ]
  },
  {
   "cell_type": "code",
   "execution_count": 22,
   "id": "c5f2d95c",
   "metadata": {},
   "outputs": [
    {
     "name": "stdout",
     "output_type": "stream",
     "text": [
      "Encoded: [('b', 1), ('c', 2), ('a', 1), ('b', 2)]\n"
     ]
    }
   ],
   "source": [
    "chars = [\"b\", \"c\", \"c\", \"a\", \"b\", \"b\"]\n",
    "encoded = []\n",
    "if chars:\n",
    "    current_char = chars[0]\n",
    "    count = 1\n",
    "    for i in range(1, len(chars)):\n",
    "        if chars[i] == current_char:\n",
    "            count += 1\n",
    "        else:\n",
    "            encoded.append((current_char, count))\n",
    "            current_char = chars[i]\n",
    "            count = 1\n",
    "    encoded.append((current_char, count))  # Add the last group\n",
    "print(\"Encoded:\",encoded)"
   ]
  },
  {
   "cell_type": "markdown",
   "id": "c60878f8",
   "metadata": {},
   "source": [
    "### 13.Scenario:\n",
    "### Given a matrix and need to transpose it and  Use nested list comprehension to transpose a matrix.\n",
    "### Input:\n",
    "#### matrix = [[1, 2, 3],[4, 5, 6]]\n",
    "### Output:\n",
    "#### [[1, 4],[2, 5],[3, 6]]\n",
    "\n"
   ]
  },
  {
   "cell_type": "code",
   "execution_count": 24,
   "id": "cd2454bd",
   "metadata": {},
   "outputs": [
    {
     "name": "stdout",
     "output_type": "stream",
     "text": [
      "[[1, 4], [2, 5], [3, 6]]\n"
     ]
    }
   ],
   "source": [
    "matrix = [\n",
    "    [1, 2, 3],\n",
    "    [4, 5, 6]\n",
    "]\n",
    "transposed = [[row[i] for row in matrix] for i in range(len(matrix[0]))]\n",
    "print(transposed)"
   ]
  },
  {
   "cell_type": "markdown",
   "id": "21232266",
   "metadata": {},
   "source": [
    "### 14.Given a list of strings, extract digits from each string and store them in a new list.\n",
    "### Input:[\"abc123\", \"hello99\"] → Output: [\"123\", \"99\"]\n",
    "\n",
    "\n"
   ]
  },
  {
   "cell_type": "code",
   "execution_count": 25,
   "id": "82cfcda3",
   "metadata": {},
   "outputs": [
    {
     "name": "stdout",
     "output_type": "stream",
     "text": [
      "['123', '99']\n"
     ]
    }
   ],
   "source": [
    "list = [\"abc123\", \"hello99\"]\n",
    "digit_list = [''.join(char for char in s if char.isdigit()) for s in list]\n",
    "print(digit_list)"
   ]
  }
 ],
 "metadata": {
  "kernelspec": {
   "display_name": "Python 3",
   "language": "python",
   "name": "python3"
  },
  "language_info": {
   "codemirror_mode": {
    "name": "ipython",
    "version": 3
   },
   "file_extension": ".py",
   "mimetype": "text/x-python",
   "name": "python",
   "nbconvert_exporter": "python",
   "pygments_lexer": "ipython3",
   "version": "3.13.3"
  }
 },
 "nbformat": 4,
 "nbformat_minor": 5
}
