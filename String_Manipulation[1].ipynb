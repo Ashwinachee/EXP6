{
 "cells": [
  {
   "cell_type": "markdown",
   "id": "1d83b888",
   "metadata": {},
   "source": [
    "### 1.Username Validator  You're developing a login system. A username must only contain alphabets and numbers, and should not exceed 12 characters.Write a function that checks whether a given username is valid or not. Return True if it's valid, otherwise False.\n"
   ]
  },
  {
   "cell_type": "code",
   "execution_count": 1,
   "id": "b190298e",
   "metadata": {},
   "outputs": [
    {
     "name": "stdout",
     "output_type": "stream",
     "text": [
      "True\n"
     ]
    }
   ],
   "source": [
    "username = input(\"Enter a username: \")\n",
    "\n",
    "is_valid = True\n",
    "\n",
    "if len(username) > 12:\n",
    "    is_valid = False\n",
    "else:\n",
    "    for char in username:\n",
    "        if not (\n",
    "            ('A' <= char <= 'Z') or\n",
    "            ('a' <= char <= 'z') or\n",
    "            ('0' <= char <= '9')\n",
    "        ):\n",
    "            is_valid = False\n",
    "            break\n",
    "\n",
    "print(is_valid)"
   ]
  },
  {
   "cell_type": "markdown",
   "id": "be1b8e04",
   "metadata": {},
   "source": [
    "### 2.Email Masking for Privacy . You need to mask part of an email address when displaying it publicly to protect user privacy.Write a program that takes an email like john.doe@example.com and returns a masked version like jo****@example.com."
   ]
  },
  {
   "cell_type": "code",
   "execution_count": 2,
   "id": "9c58b9b5",
   "metadata": {},
   "outputs": [
    {
     "name": "stdout",
     "output_type": "stream",
     "text": [
      "as****@gmail.com\n"
     ]
    }
   ],
   "source": [
    "email = input(\"Enter your email: \")\n",
    "local, domain = email.split(\"@\")\n",
    "if len(local) > 2:\n",
    "    masked_local = local[:2] + \"*\" * (len(local) - 2)\n",
    "else:\n",
    "    masked_local = \"*\" * len(local)\n",
    "masked_email = masked_local + \"@\" + domain\n",
    "print(masked_email)"
   ]
  },
  {
   "cell_type": "markdown",
   "id": "dc1a96c6",
   "metadata": {},
   "source": [
    "### 3.Detecting Palindromes  You are building a text analyzer app. One of the features is to detect if a word or phrase is a palindrome (ignoring spaces and punctuation).Write a function that checks whether a given string is a palindrome, ignoring case, spaces, and punctuation."
   ]
  },
  {
   "cell_type": "code",
   "execution_count": 3,
   "id": "2f8cf885",
   "metadata": {},
   "outputs": [
    {
     "name": "stdout",
     "output_type": "stream",
     "text": [
      "False\n"
     ]
    }
   ],
   "source": [
    "import string\n",
    "text = input(\"Enter a word or phrase: \")\n",
    "cleaned = ''\n",
    "for char in text:\n",
    "    if char.isalnum():\n",
    "        cleaned += char.lower()\n",
    "is_palindrome = cleaned == cleaned[::-1]\n",
    "print(is_palindrome)"
   ]
  },
  {
   "cell_type": "markdown",
   "id": "94a1593b",
   "metadata": {},
   "source": [
    "### 4.Text Formatter for News Headlines - You’re building a news app that receives article titles in random casing. You need to format the titles so each word starts with a capital letter.Write a function that converts a given string like \"breaKing news: python is fun\" to \"Breaking News: Python Is Fun\"."
   ]
  },
  {
   "cell_type": "code",
   "execution_count": 6,
   "id": "7bef2010",
   "metadata": {},
   "outputs": [
    {
     "name": "stdout",
     "output_type": "stream",
     "text": [
      "The Iphone Is A Great Phone.The Ipone Has Amazing Feature\n"
     ]
    }
   ],
   "source": [
    "text = input(\"Enter the headline: \")\n",
    "formatted = text.title()\n",
    "print(formatted)"
   ]
  },
  {
   "cell_type": "markdown",
   "id": "fd2c9786",
   "metadata": {},
   "source": [
    "### 5.Word Frequency Counter  In a blog analysis tool, you need to find out how often each word appears in a paragraph.\n"
   ]
  },
  {
   "cell_type": "code",
   "execution_count": 7,
   "id": "4bc756a1",
   "metadata": {},
   "outputs": [
    {
     "name": "stdout",
     "output_type": "stream",
     "text": [
      "the: 2\n",
      "iphone: 2\n",
      "is: 1\n",
      "a: 1\n",
      "great: 1\n",
      "phone: 1\n",
      "has: 1\n",
      "amazing: 1\n",
      "feature: 1\n"
     ]
    }
   ],
   "source": [
    "paragraph = input(\"Enter a paragraph: \")\n",
    "cleaned = ''\n",
    "for char in paragraph:\n",
    "    if char.isalnum() or char.isspace():\n",
    "        cleaned += char.lower()\n",
    "words = cleaned.split()\n",
    "word_count = {}\n",
    "for word in words:\n",
    "    if word in word_count:\n",
    "        word_count[word] += 1\n",
    "    else:\n",
    "        word_count[word] = 1\n",
    "for word, count in word_count.items():\n",
    "    print(f\"{word}: {count}\")"
   ]
  },
  {
   "cell_type": "markdown",
   "id": "f92dbe32",
   "metadata": {},
   "source": [
    "### 6.Write a program that takes a block of text and prints\n"
   ]
  },
  {
   "cell_type": "code",
   "execution_count": 8,
   "id": "166bb0af",
   "metadata": {},
   "outputs": [
    {
     "name": "stdout",
     "output_type": "stream",
     "text": [
      "\n",
      "Word Frequencies:\n",
      "\n",
      "the: 2\n",
      "camera: 2\n",
      "on: 1\n",
      "tripod: 1\n",
      "capture: 1\n",
      "beautiful: 1\n",
      "photosthe: 1\n",
      "gives: 1\n",
      "quality: 1\n",
      "images: 1\n"
     ]
    }
   ],
   "source": [
    "text = input(\"Enter a block of text:\\n\")\n",
    "cleaned_text = ''\n",
    "for char in text:\n",
    "    if char.isalnum() or char.isspace():\n",
    "        cleaned_text += char.lower()\n",
    "words = cleaned_text.split()\n",
    "word_count = {}\n",
    "for word in words:\n",
    "    if word in word_count:\n",
    "        word_count[word] += 1\n",
    "    else:\n",
    "        word_count[word] = 1\n",
    "print(\"\\nWord Frequencies:\\n\")\n",
    "for word, count in word_count.items():\n",
    "    print(f\"{word}: {count}\")"
   ]
  },
  {
   "cell_type": "code",
   "execution_count": null,
   "id": "beccc32b",
   "metadata": {},
   "outputs": [],
   "source": []
  }
 ],
 "metadata": {
  "kernelspec": {
   "display_name": "Python 3",
   "language": "python",
   "name": "python3"
  },
  "language_info": {
   "codemirror_mode": {
    "name": "ipython",
    "version": 3
   },
   "file_extension": ".py",
   "mimetype": "text/x-python",
   "name": "python",
   "nbconvert_exporter": "python",
   "pygments_lexer": "ipython3",
   "version": "3.12.6"
  }
 },
 "nbformat": 4,
 "nbformat_minor": 5
}
